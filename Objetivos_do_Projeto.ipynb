{
 "cells": [
  {
   "cell_type": "markdown",
   "metadata": {},
   "source": [
    "UML = Linguagem de Documentação\n",
    "Planejamento\n",
    "\n",
    "Atividade dupla:\n",
    "Produzir solução para uma agenda simples\n",
    "Funciona apenas durante a execução, sem banco de dados.\n",
    "\n",
    "1- Estruturado\n",
    "while , dicionário\n",
    "2- Orientado a objetos : utilizando UML : indicar paradigma\n",
    "\n",
    "Requisitos funcionais:\n",
    "Armazenamento de telefones\n",
    "mecanismo básico de busca(por nome e por telefone)\n",
    "listagem de todo o conteúdo da agenda.\n",
    "excluir pessoas\n",
    "editar pessoas e contatos\n",
    "\n",
    "Requisitos não funcionais:\n",
    "utilizar o terminal BASH para interagir com os usuários (print,input)\n",
    "\n",
    "UML :\n",
    "Casos de uso (lista de substantivos e verbos)\n",
    "\n",
    "Deseja-se simular o comportamento de uma agenda de pessoas, com seus respectivos contatos. A agenda deverá ser utilizada pelo usuário através do terminal para atividades de criar, editar, remover e visualizar pessoas e contatos.\n",
    "Após a inicialização do software a agenda deverá entrar em loop para que o usuário defina a cada iteração a operação a ser realizada. A agenda terá pelo menos as seguintes opções: (1) Criar contatos (2) Listar contatos (3) Editar contatos (4) Remover contatos (5) Sair.\n",
    "\n",
    "Substantivos[Natureza] : Agenda[Classe], usuário[-], pessoas[Classe], contato[Atributo_de_classe], nome[Atributo_de_classe], terminal[-] , {opções do loop[Atributo_de_classe], loop(Sistema)[Classe]}\n",
    "\n",
    "Verbos[Natureza]: Criar[Método_de_classe] , Listar[Método_de_classe] , Editar[Método_de_classe] , Remover[Método_de_classe] , Sair[Método_de_classe] , loop[Método_de_classe] \n",
    "\n",
    "Representação de Classes (Modelos, Controladores): (DRAW IO) "
   ]
  },
  {
   "cell_type": "markdown",
   "metadata": {},
   "source": [
    "Paradigma Estruturado:\n",
    "Criar o Dicionário\n",
    "loop\n",
    "if"
   ]
  },
  {
   "cell_type": "code",
   "execution_count": 1,
   "metadata": {},
   "outputs": [
    {
     "name": "stdout",
     "output_type": "stream",
     "text": [
      "1\n"
     ]
    }
   ],
   "source": [
    "Agenda = {}\n",
    "\n",
    "while True:\n",
    "    a = int(input('Digite 1 para Criar um contato \\nDigite 2 para Listar os contato\\nDigite 3 para Editar um contato\\nDigite 4 para Remover um contato\\n Digite 6 para Pesquisar um contato\\nDigite 6 para Sair'))\n",
    "    if a==1:\n",
    "        print(1)\n",
    "    elif a==6:\n",
    "       break"
   ]
  },
  {
   "cell_type": "code",
   "execution_count": 1,
   "metadata": {},
   "outputs": [
    {
     "name": "stdout",
     "output_type": "stream",
     "text": [
      "hello\n"
     ]
    }
   ],
   "source": ""
  }
 ],
 "metadata": {
  "kernelspec": {
   "display_name": "Python 3",
   "language": "python",
   "name": "python3"
  },
  "language_info": {
   "codemirror_mode": {
    "name": "ipython",
    "version": 3
   },
   "file_extension": ".py",
   "mimetype": "text/x-python",
   "name": "python",
   "nbconvert_exporter": "python",
   "pygments_lexer": "ipython3",
   "version": "3.13.0"
  }
 },
 "nbformat": 4,
 "nbformat_minor": 2
}
